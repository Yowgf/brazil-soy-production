{
 "cells": [
  {
   "cell_type": "code",
   "execution_count": null,
   "id": "6bee25f4-e2b0-4051-a963-a6f9103426cc",
   "metadata": {},
   "outputs": [],
   "source": [
    "import lib # Local library with the stuff we will use\n",
    "import warnings\n",
    "warnings.filterwarnings('ignore')"
   ]
  },
  {
   "cell_type": "code",
   "execution_count": null,
   "id": "7200d61e-8c9e-40bd-a331-ccbe0cc11f5e",
   "metadata": {},
   "outputs": [],
   "source": [
    "df = lib.Preprocessor(\"../database\", \"states\").get_table()\n",
    "lib.visualize(df)"
   ]
  },
  {
   "cell_type": "markdown",
   "id": "d7e400d3-5069-46ae-b80b-bd6756d8bc05",
   "metadata": {},
   "source": [
    "## Choropleth map"
   ]
  },
  {
   "cell_type": "code",
   "execution_count": null,
   "id": "2361c02e-4166-4604-b88e-4a9b30af8d9e",
   "metadata": {},
   "outputs": [],
   "source": [
    "from urllib.request import urlopen\n",
    "import json\n",
    "import pandas as pd\n",
    "import numpy as np\n",
    "import plotly.express as px"
   ]
  },
  {
   "cell_type": "code",
   "execution_count": null,
   "id": "6e9ea596-42a7-4101-baa8-ee787d105405",
   "metadata": {},
   "outputs": [],
   "source": [
    "# with urlopen('https://raw.githubusercontent.com/plotly/datasets/master/geojson-counties-fips.json') as response:\n",
    "#     counties = json.load(response)\n",
    "test_df = pd.read_csv(\"https://raw.githubusercontent.com/plotly/datasets/master/fips-unemp-16.csv\",\n",
    "               dtype={\"fips\": str})"
   ]
  },
  {
   "cell_type": "code",
   "execution_count": null,
   "id": "cdc290c8-cd39-4bdc-9158-edb3a91aba58",
   "metadata": {},
   "outputs": [],
   "source": [
    "test_df"
   ]
  },
  {
   "cell_type": "code",
   "execution_count": null,
   "id": "be46949f-0628-4058-ae72-3cbae86ee4b7",
   "metadata": {},
   "outputs": [],
   "source": [
    "df[df[\"region\"] == \"TO\"]"
   ]
  },
  {
   "cell_type": "code",
   "execution_count": null,
   "id": "848bb04c-9889-4940-8c11-90f5887845dd",
   "metadata": {},
   "outputs": [],
   "source": [
    "with open(\"../database/brazil_geo.json\") as f:\n",
    "    br_regions_json = json.load(f)"
   ]
  },
  {
   "cell_type": "code",
   "execution_count": null,
   "id": "a7e8e9fe-3087-48e5-946b-5c77afc4f2b7",
   "metadata": {},
   "outputs": [],
   "source": [
    "regions_replacement = {\n",
    "    feature['properties']['name']: feature['id'] for feature in br_regions_json['features']\n",
    "}"
   ]
  },
  {
   "cell_type": "code",
   "execution_count": null,
   "id": "46858fcd-79d2-4dc9-97fe-c1a9c99a5469",
   "metadata": {},
   "outputs": [],
   "source": [
    "df[\"region\"] = df[\"region\"].map(regions_replacement)"
   ]
  },
  {
   "cell_type": "code",
   "execution_count": null,
   "id": "e1a92662-d919-44de-9bdc-ec65bbae26c8",
   "metadata": {},
   "outputs": [],
   "source": [
    "filtered_df = df[(df[\"year\"] == 2006) & (df[\"region\"].isin([\"TO\", \"DF\", \"MT\", \"GO\"]))]"
   ]
  },
  {
   "cell_type": "code",
   "execution_count": null,
   "id": "5f3de7ba-1d8c-4901-896d-bf2a5db94537",
   "metadata": {
    "tags": []
   },
   "outputs": [],
   "source": [
    "fig = px.choropleth(filtered_df, geojson=br_regions_json, locations='region', color='production',\n",
    "                           color_continuous_scale=\"Viridis\",\n",
    "                           range_color=(0, 1.5e7),\n",
    "                           scope=\"south america\",\n",
    "                           labels={'production': 'Soy Production'},\n",
    "                          )\n",
    "fig.update_geos(fitbounds=\"locations\", visible=False)\n",
    "fig.update_layout(margin={\"r\":0,\"t\":0,\"l\":0,\"b\":0})\n",
    "fig.show()"
   ]
  },
  {
   "cell_type": "code",
   "execution_count": null,
   "id": "c2b2b893-b914-44a0-9a96-462811a803b6",
   "metadata": {
    "tags": []
   },
   "outputs": [],
   "source": [
    "fig = px.choropleth(df, geojson=br_regions_json, locations='region', color='production',\n",
    "                           color_continuous_scale=\"Viridis\",\n",
    "                           range_color=(0, 4e7),\n",
    "                           scope=\"south america\",\n",
    "                           labels={'production': 'Soy Production'},\n",
    "                          )\n",
    "fig.update_geos(fitbounds=\"locations\", visible=False)\n",
    "fig.update_layout(margin={\"r\":0,\"t\":0,\"l\":0,\"b\":0})\n",
    "fig.show()"
   ]
  },
  {
   "cell_type": "code",
   "execution_count": null,
   "id": "4cd3a9a2-74f7-4f9c-83d5-10f95d543854",
   "metadata": {},
   "outputs": [],
   "source": []
  }
 ],
 "metadata": {
  "kernelspec": {
   "display_name": "Python 3 (ipykernel)",
   "language": "python",
   "name": "python3"
  },
  "language_info": {
   "codemirror_mode": {
    "name": "ipython",
    "version": 3
   },
   "file_extension": ".py",
   "mimetype": "text/x-python",
   "name": "python",
   "nbconvert_exporter": "python",
   "pygments_lexer": "ipython3",
   "version": "3.8.10"
  }
 },
 "nbformat": 4,
 "nbformat_minor": 5
}
