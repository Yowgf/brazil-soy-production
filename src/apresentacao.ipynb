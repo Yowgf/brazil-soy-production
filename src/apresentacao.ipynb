{
 "cells": [
  {
   "cell_type": "markdown",
   "metadata": {},
   "source": [
    "# Projeto ICD-TP-SOJA\n",
    "\n",
    "Esse notebook compõe toda a apresentação do projeto, quanto aos passos tomados, desde o processamento inicial dos dados até as tentativas de ensinar a máquina.\n",
    "\n",
    "Começamos processando os dados. Depois, passamos para testes de hipóteses triviais, e então passamos para análise de cada pergunta do projeto individualmente."
   ]
  },
  {
   "cell_type": "code",
   "execution_count": 1,
   "metadata": {},
   "outputs": [],
   "source": [
    "# Vamos importar nossa biblioteca\n",
    "import lib"
   ]
  },
  {
   "cell_type": "code",
   "execution_count": 2,
   "metadata": {},
   "outputs": [],
   "source": [
    "# Temos as tabelas 283 e 6588 fornecidas pelo IBGE\n",
    "# A tabela 283 cobre o período de 1920 a 1970\n",
    "tabela283, tabela6588 = lib.preprocess()"
   ]
  },
  {
   "cell_type": "code",
   "execution_count": 9,
   "metadata": {
    "scrolled": true
   },
   "outputs": [
    {
     "data": {
      "text/plain": [
       "0"
      ]
     },
     "execution_count": 9,
     "metadata": {},
     "output_type": "execute_result"
    }
   ],
   "source": []
  }
 ],
 "metadata": {
  "kernelspec": {
   "display_name": "Python 3",
   "language": "python",
   "name": "python3"
  },
  "language_info": {
   "codemirror_mode": {
    "name": "ipython",
    "version": 3
   },
   "file_extension": ".py",
   "mimetype": "text/x-python",
   "name": "python",
   "nbconvert_exporter": "python",
   "pygments_lexer": "ipython3",
   "version": "3.7.2"
  }
 },
 "nbformat": 4,
 "nbformat_minor": 2
}
